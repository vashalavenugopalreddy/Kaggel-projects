{
 "cells": [
  {
   "cell_type": "markdown",
   "id": "cfeb27cb",
   "metadata": {
    "papermill": {
     "duration": 0.005642,
     "end_time": "2023-01-12T05:49:53.025245",
     "exception": false,
     "start_time": "2023-01-12T05:49:53.019603",
     "status": "completed"
    },
    "tags": []
   },
   "source": [
    "**This notebook is an exercise in the [Python](https://www.kaggle.com/learn/python) course.  You can reference the tutorial at [this link](https://www.kaggle.com/colinmorris/lists).**\n",
    "\n",
    "---\n"
   ]
  },
  {
   "cell_type": "markdown",
   "id": "af4a5117",
   "metadata": {
    "papermill": {
     "duration": 0.003708,
     "end_time": "2023-01-12T05:49:53.033564",
     "exception": false,
     "start_time": "2023-01-12T05:49:53.029856",
     "status": "completed"
    },
    "tags": []
   },
   "source": [
    "Things get more interesting with lists. You'll apply your new knowledge to solve the questions below. Remember to run the following cell first."
   ]
  },
  {
   "cell_type": "code",
   "execution_count": 1,
   "id": "f0cd5fde",
   "metadata": {
    "execution": {
     "iopub.execute_input": "2023-01-12T05:49:53.043385Z",
     "iopub.status.busy": "2023-01-12T05:49:53.042917Z",
     "iopub.status.idle": "2023-01-12T05:49:53.098225Z",
     "shell.execute_reply": "2023-01-12T05:49:53.096584Z"
    },
    "papermill": {
     "duration": 0.063328,
     "end_time": "2023-01-12T05:49:53.100843",
     "exception": false,
     "start_time": "2023-01-12T05:49:53.037515",
     "status": "completed"
    },
    "tags": []
   },
   "outputs": [
    {
     "name": "stdout",
     "output_type": "stream",
     "text": [
      "Setup complete.\n"
     ]
    }
   ],
   "source": [
    "from learntools.core import binder; binder.bind(globals())\n",
    "from learntools.python.ex4 import *\n",
    "print('Setup complete.')"
   ]
  },
  {
   "cell_type": "markdown",
   "id": "0cca71d0",
   "metadata": {
    "papermill": {
     "duration": 0.003891,
     "end_time": "2023-01-12T05:49:53.109277",
     "exception": false,
     "start_time": "2023-01-12T05:49:53.105386",
     "status": "completed"
    },
    "tags": []
   },
   "source": [
    "# 1.\n",
    "\n",
    "Complete the function below according to its docstring."
   ]
  },
  {
   "cell_type": "code",
   "execution_count": 2,
   "id": "d53aab40",
   "metadata": {
    "execution": {
     "iopub.execute_input": "2023-01-12T05:49:53.119336Z",
     "iopub.status.busy": "2023-01-12T05:49:53.118975Z",
     "iopub.status.idle": "2023-01-12T05:49:53.131109Z",
     "shell.execute_reply": "2023-01-12T05:49:53.130048Z"
    },
    "papermill": {
     "duration": 0.019979,
     "end_time": "2023-01-12T05:49:53.133455",
     "exception": false,
     "start_time": "2023-01-12T05:49:53.113476",
     "status": "completed"
    },
    "tags": []
   },
   "outputs": [
    {
     "data": {
      "application/javascript": [
       "parent.postMessage({\"jupyterEvent\": \"custom.exercise_interaction\", \"data\": {\"outcomeType\": 1, \"valueTowardsCompletion\": 0.2, \"interactionType\": 1, \"questionType\": 2, \"questionId\": \"1_SelectSecondItem\", \"learnToolsVersion\": \"0.3.4\", \"failureMessage\": \"\", \"exceptionClass\": \"\", \"trace\": \"\"}}, \"*\")"
      ],
      "text/plain": [
       "<IPython.core.display.Javascript object>"
      ]
     },
     "metadata": {},
     "output_type": "display_data"
    },
    {
     "data": {
      "text/markdown": [
       "<span style=\"color:#33cc33\">Correct</span>"
      ],
      "text/plain": [
       "Correct"
      ]
     },
     "metadata": {},
     "output_type": "display_data"
    }
   ],
   "source": [
    "def select_second(L):\n",
    "    if len(L)< 2:\n",
    "        return None\n",
    "    return L[1]\n",
    "    \"\"\"Return the second element of the given list. If the list has no second\n",
    "    element, return None.\n",
    "    \"\"\"\n",
    "# Check your answer\n",
    "q1.check()"
   ]
  },
  {
   "cell_type": "code",
   "execution_count": 3,
   "id": "6c054aa3",
   "metadata": {
    "execution": {
     "iopub.execute_input": "2023-01-12T05:49:53.144417Z",
     "iopub.status.busy": "2023-01-12T05:49:53.144079Z",
     "iopub.status.idle": "2023-01-12T05:49:53.154524Z",
     "shell.execute_reply": "2023-01-12T05:49:53.152982Z"
    },
    "papermill": {
     "duration": 0.018672,
     "end_time": "2023-01-12T05:49:53.156971",
     "exception": false,
     "start_time": "2023-01-12T05:49:53.138299",
     "status": "completed"
    },
    "tags": []
   },
   "outputs": [
    {
     "data": {
      "application/javascript": [
       "parent.postMessage({\"jupyterEvent\": \"custom.exercise_interaction\", \"data\": {\"interactionType\": 2, \"questionType\": 2, \"questionId\": \"1_SelectSecondItem\", \"learnToolsVersion\": \"0.3.4\", \"valueTowardsCompletion\": 0.0, \"failureMessage\": \"\", \"exceptionClass\": \"\", \"trace\": \"\", \"outcomeType\": 4}}, \"*\")"
      ],
      "text/plain": [
       "<IPython.core.display.Javascript object>"
      ]
     },
     "metadata": {},
     "output_type": "display_data"
    },
    {
     "data": {
      "text/markdown": [
       "<span style=\"color:#3366cc\">Hint:</span> Python starts counting at 0. So the second item isn't indexed with a 2"
      ],
      "text/plain": [
       "Hint: Python starts counting at 0. So the second item isn't indexed with a 2"
      ]
     },
     "metadata": {},
     "output_type": "display_data"
    },
    {
     "data": {
      "application/javascript": [
       "parent.postMessage({\"jupyterEvent\": \"custom.exercise_interaction\", \"data\": {\"interactionType\": 3, \"questionType\": 2, \"questionId\": \"1_SelectSecondItem\", \"learnToolsVersion\": \"0.3.4\", \"valueTowardsCompletion\": 0.0, \"failureMessage\": \"\", \"exceptionClass\": \"\", \"trace\": \"\", \"outcomeType\": 4}}, \"*\")"
      ],
      "text/plain": [
       "<IPython.core.display.Javascript object>"
      ]
     },
     "metadata": {},
     "output_type": "display_data"
    },
    {
     "data": {
      "text/markdown": [
       "<span style=\"color:#33cc99\">Solution:</span> \n",
       "```python\n",
       "def select_second(L):\n",
       "    if len(L) < 2:\n",
       "        return None\n",
       "    return L[1]\n",
       "```"
      ],
      "text/plain": [
       "Solution: \n",
       "```python\n",
       "def select_second(L):\n",
       "    if len(L) < 2:\n",
       "        return None\n",
       "    return L[1]\n",
       "```"
      ]
     },
     "metadata": {},
     "output_type": "display_data"
    }
   ],
   "source": [
    "q1.hint()\n",
    "q1.solution()"
   ]
  },
  {
   "cell_type": "markdown",
   "id": "c3d8aaff",
   "metadata": {
    "papermill": {
     "duration": 0.004434,
     "end_time": "2023-01-12T05:49:53.166341",
     "exception": false,
     "start_time": "2023-01-12T05:49:53.161907",
     "status": "completed"
    },
    "tags": []
   },
   "source": [
    "# 2.\n",
    "\n",
    "You are analyzing sports teams.  Members of each team are stored in a list. The Coach is the first name in the list, the captain is the second name in the list, and other players are listed after that. \n",
    "These lists are stored in another list, which starts with the best team and proceeds through the list to the worst team last.  Complete the function below to select the **captain** of the worst team."
   ]
  },
  {
   "cell_type": "code",
   "execution_count": 4,
   "id": "790f58d4",
   "metadata": {
    "execution": {
     "iopub.execute_input": "2023-01-12T05:49:53.178279Z",
     "iopub.status.busy": "2023-01-12T05:49:53.177912Z",
     "iopub.status.idle": "2023-01-12T05:49:53.187727Z",
     "shell.execute_reply": "2023-01-12T05:49:53.186293Z"
    },
    "papermill": {
     "duration": 0.018214,
     "end_time": "2023-01-12T05:49:53.189803",
     "exception": false,
     "start_time": "2023-01-12T05:49:53.171589",
     "status": "completed"
    },
    "tags": []
   },
   "outputs": [
    {
     "data": {
      "application/javascript": [
       "parent.postMessage({\"jupyterEvent\": \"custom.exercise_interaction\", \"data\": {\"outcomeType\": 4, \"interactionType\": 1, \"questionType\": 2, \"questionId\": \"2_LosingTeamCaptain\", \"learnToolsVersion\": \"0.3.4\", \"valueTowardsCompletion\": 0.0, \"failureMessage\": \"\", \"exceptionClass\": \"\", \"trace\": \"\"}}, \"*\")"
      ],
      "text/plain": [
       "<IPython.core.display.Javascript object>"
      ]
     },
     "metadata": {},
     "output_type": "display_data"
    },
    {
     "data": {
      "text/markdown": [
       "<span style=\"color:#ccaa33\">Check:</span> When you've updated the starter code, `check()` will tell you whether your code is correct. "
      ],
      "text/plain": [
       "Check: When you've updated the starter code, `check()` will tell you whether your code is correct. "
      ]
     },
     "metadata": {},
     "output_type": "display_data"
    }
   ],
   "source": [
    "def losing_team_captain(teams):\n",
    "    \n",
    "    \"\"\"Given a list of teams, where each team is a list of names, return the 2nd player (captain)\n",
    "    from the last listed team\n",
    "    \"\"\"\n",
    "\n",
    "# Check your answer\n",
    "q2.check()"
   ]
  },
  {
   "cell_type": "code",
   "execution_count": 5,
   "id": "000bf91f",
   "metadata": {
    "execution": {
     "iopub.execute_input": "2023-01-12T05:49:53.201765Z",
     "iopub.status.busy": "2023-01-12T05:49:53.201389Z",
     "iopub.status.idle": "2023-01-12T05:49:53.211455Z",
     "shell.execute_reply": "2023-01-12T05:49:53.210352Z"
    },
    "papermill": {
     "duration": 0.018298,
     "end_time": "2023-01-12T05:49:53.213279",
     "exception": false,
     "start_time": "2023-01-12T05:49:53.194981",
     "status": "completed"
    },
    "tags": []
   },
   "outputs": [
    {
     "data": {
      "application/javascript": [
       "parent.postMessage({\"jupyterEvent\": \"custom.exercise_interaction\", \"data\": {\"interactionType\": 2, \"questionType\": 2, \"questionId\": \"2_LosingTeamCaptain\", \"learnToolsVersion\": \"0.3.4\", \"valueTowardsCompletion\": 0.0, \"failureMessage\": \"\", \"exceptionClass\": \"\", \"trace\": \"\", \"outcomeType\": 4}}, \"*\")"
      ],
      "text/plain": [
       "<IPython.core.display.Javascript object>"
      ]
     },
     "metadata": {},
     "output_type": "display_data"
    },
    {
     "data": {
      "text/markdown": [
       "<span style=\"color:#3366cc\">Hint:</span> The last item in a list `L` can be selected with `L[-1]`. The first item in the first sublist would be selected as `L[0][0]`"
      ],
      "text/plain": [
       "Hint: The last item in a list `L` can be selected with `L[-1]`. The first item in the first sublist would be selected as `L[0][0]`"
      ]
     },
     "metadata": {},
     "output_type": "display_data"
    }
   ],
   "source": [
    "q2.hint()\n",
    "#q2.solution()"
   ]
  },
  {
   "cell_type": "markdown",
   "id": "48bb775b",
   "metadata": {
    "papermill": {
     "duration": 0.007044,
     "end_time": "2023-01-12T05:49:53.225902",
     "exception": false,
     "start_time": "2023-01-12T05:49:53.218858",
     "status": "completed"
    },
    "tags": []
   },
   "source": [
    "# 3.\n",
    "\n",
    "The next iteration of Mario Kart will feature an extra-infuriating new item, the *Purple Shell*. When used, it warps the last place racer into first place and the first place racer into last place. Complete the function below to implement the Purple Shell's effect."
   ]
  },
  {
   "cell_type": "code",
   "execution_count": 6,
   "id": "d2fbeefb",
   "metadata": {
    "execution": {
     "iopub.execute_input": "2023-01-12T05:49:53.238582Z",
     "iopub.status.busy": "2023-01-12T05:49:53.238189Z",
     "iopub.status.idle": "2023-01-12T05:49:53.246752Z",
     "shell.execute_reply": "2023-01-12T05:49:53.245306Z"
    },
    "papermill": {
     "duration": 0.017256,
     "end_time": "2023-01-12T05:49:53.248683",
     "exception": false,
     "start_time": "2023-01-12T05:49:53.231427",
     "status": "completed"
    },
    "tags": []
   },
   "outputs": [
    {
     "data": {
      "application/javascript": [
       "parent.postMessage({\"jupyterEvent\": \"custom.exercise_interaction\", \"data\": {\"outcomeType\": 4, \"interactionType\": 1, \"questionType\": 2, \"questionId\": \"3_PurpleShell\", \"learnToolsVersion\": \"0.3.4\", \"valueTowardsCompletion\": 0.0, \"failureMessage\": \"\", \"exceptionClass\": \"\", \"trace\": \"\"}}, \"*\")"
      ],
      "text/plain": [
       "<IPython.core.display.Javascript object>"
      ]
     },
     "metadata": {},
     "output_type": "display_data"
    },
    {
     "data": {
      "text/markdown": [
       "<span style=\"color:#ccaa33\">Check:</span> When you've updated the starter code, `check()` will tell you whether your code is correct. "
      ],
      "text/plain": [
       "Check: When you've updated the starter code, `check()` will tell you whether your code is correct. "
      ]
     },
     "metadata": {},
     "output_type": "display_data"
    }
   ],
   "source": [
    "def purple_shell(racers):\n",
    "    \"\"\"Given a list of racers, set the first place racer (at the front of the list) to last\n",
    "    place and vice versa.\n",
    "    \n",
    "    >>> r = [\"Mario\", \"Bowser\", \"Luigi\"]\n",
    "    >>> purple_shell(r)\n",
    "    >>> r\n",
    "    [\"Luigi\", \"Bowser\", \"Mario\"]\n",
    "    \"\"\"\n",
    "    pass\n",
    "\n",
    "# Check your answer\n",
    "q3.check()"
   ]
  },
  {
   "cell_type": "code",
   "execution_count": 7,
   "id": "55875e6b",
   "metadata": {
    "collapsed": true,
    "execution": {
     "iopub.execute_input": "2023-01-12T05:49:53.261302Z",
     "iopub.status.busy": "2023-01-12T05:49:53.260951Z",
     "iopub.status.idle": "2023-01-12T05:49:53.265824Z",
     "shell.execute_reply": "2023-01-12T05:49:53.264158Z"
    },
    "jupyter": {
     "outputs_hidden": true
    },
    "papermill": {
     "duration": 0.014016,
     "end_time": "2023-01-12T05:49:53.268329",
     "exception": false,
     "start_time": "2023-01-12T05:49:53.254313",
     "status": "completed"
    },
    "tags": []
   },
   "outputs": [],
   "source": [
    "#q3.hint()\n",
    "#q3.solution()"
   ]
  },
  {
   "cell_type": "markdown",
   "id": "54ebd522",
   "metadata": {
    "papermill": {
     "duration": 0.00538,
     "end_time": "2023-01-12T05:49:53.279584",
     "exception": false,
     "start_time": "2023-01-12T05:49:53.274204",
     "status": "completed"
    },
    "tags": []
   },
   "source": [
    "# 4.\n",
    "\n",
    "What are the lengths of the following lists? Fill in the variable `lengths` with your predictions. (Try to make a prediction for each list *without* just calling `len()` on it.)"
   ]
  },
  {
   "cell_type": "code",
   "execution_count": 8,
   "id": "1d14f981",
   "metadata": {
    "execution": {
     "iopub.execute_input": "2023-01-12T05:49:53.293198Z",
     "iopub.status.busy": "2023-01-12T05:49:53.292856Z",
     "iopub.status.idle": "2023-01-12T05:49:53.302542Z",
     "shell.execute_reply": "2023-01-12T05:49:53.300845Z"
    },
    "papermill": {
     "duration": 0.019933,
     "end_time": "2023-01-12T05:49:53.305348",
     "exception": false,
     "start_time": "2023-01-12T05:49:53.285415",
     "status": "completed"
    },
    "tags": []
   },
   "outputs": [
    {
     "data": {
      "application/javascript": [
       "parent.postMessage({\"jupyterEvent\": \"custom.exercise_interaction\", \"data\": {\"outcomeType\": 4, \"interactionType\": 1, \"questionType\": 1, \"questionId\": \"4_UnderstandLen\", \"learnToolsVersion\": \"0.3.4\", \"valueTowardsCompletion\": 0.0, \"failureMessage\": \"\", \"exceptionClass\": \"\", \"trace\": \"\"}}, \"*\")"
      ],
      "text/plain": [
       "<IPython.core.display.Javascript object>"
      ]
     },
     "metadata": {},
     "output_type": "display_data"
    },
    {
     "data": {
      "text/markdown": [
       "<span style=\"color:#ccaa33\">Check:</span> When you've updated the starter code, `check()` will tell you whether your code is correct. You need to update the code that creates variable `lengths`"
      ],
      "text/plain": [
       "Check: When you've updated the starter code, `check()` will tell you whether your code is correct. You need to update the code that creates variable `lengths`"
      ]
     },
     "metadata": {},
     "output_type": "display_data"
    }
   ],
   "source": [
    "a = [1, 2, 3]\n",
    "b = [1, [2, 3]]\n",
    "c = []\n",
    "d = [1, 2, 3][1:]\n",
    "\n",
    "# Put your predictions in the list below. Lengths should contain 4 numbers, the\n",
    "# first being the length of a, the second being the length of b and so on.\n",
    "lengths = []\n",
    "\n",
    "# Check your answer\n",
    "q4.check()"
   ]
  },
  {
   "cell_type": "code",
   "execution_count": 9,
   "id": "a399f0d9",
   "metadata": {
    "collapsed": true,
    "execution": {
     "iopub.execute_input": "2023-01-12T05:49:53.319450Z",
     "iopub.status.busy": "2023-01-12T05:49:53.319040Z",
     "iopub.status.idle": "2023-01-12T05:49:53.324159Z",
     "shell.execute_reply": "2023-01-12T05:49:53.322727Z"
    },
    "jupyter": {
     "outputs_hidden": true
    },
    "papermill": {
     "duration": 0.014941,
     "end_time": "2023-01-12T05:49:53.326456",
     "exception": false,
     "start_time": "2023-01-12T05:49:53.311515",
     "status": "completed"
    },
    "tags": []
   },
   "outputs": [],
   "source": [
    "# line below provides some explanation\n",
    "#q4.solution()"
   ]
  },
  {
   "cell_type": "markdown",
   "id": "3c7ba4c5",
   "metadata": {
    "papermill": {
     "duration": 0.005574,
     "end_time": "2023-01-12T05:49:53.338078",
     "exception": false,
     "start_time": "2023-01-12T05:49:53.332504",
     "status": "completed"
    },
    "tags": []
   },
   "source": [
    "# 5. <span title=\"A bit spicy\" style=\"color: darkgreen \">🌶️</span>\n",
    "\n",
    "We're using lists to record people who attended our party and what order they arrived in. For example, the following list represents a party with 7 guests, in which Adela showed up first and Ford was the last to arrive:\n",
    "\n",
    "    party_attendees = ['Adela', 'Fleda', 'Owen', 'May', 'Mona', 'Gilbert', 'Ford']\n",
    "\n",
    "A guest is considered 'fashionably late' if they arrived after at least half of the party's guests. However, they must not be the very last guest (that's taking it too far). In the above example, Mona and Gilbert are the only guests who were fashionably late.\n",
    "\n",
    "Complete the function below which takes a list of party attendees as well as a person, and tells us whether that person is fashionably late."
   ]
  },
  {
   "cell_type": "code",
   "execution_count": 10,
   "id": "d83712c3",
   "metadata": {
    "execution": {
     "iopub.execute_input": "2023-01-12T05:49:53.351469Z",
     "iopub.status.busy": "2023-01-12T05:49:53.351063Z",
     "iopub.status.idle": "2023-01-12T05:49:53.358341Z",
     "shell.execute_reply": "2023-01-12T05:49:53.357651Z"
    },
    "papermill": {
     "duration": 0.016228,
     "end_time": "2023-01-12T05:49:53.360338",
     "exception": false,
     "start_time": "2023-01-12T05:49:53.344110",
     "status": "completed"
    },
    "tags": []
   },
   "outputs": [
    {
     "data": {
      "application/javascript": [
       "parent.postMessage({\"jupyterEvent\": \"custom.exercise_interaction\", \"data\": {\"outcomeType\": 4, \"interactionType\": 1, \"questionType\": 2, \"questionId\": \"5_FashionablyLate\", \"learnToolsVersion\": \"0.3.4\", \"valueTowardsCompletion\": 0.0, \"failureMessage\": \"\", \"exceptionClass\": \"\", \"trace\": \"\"}}, \"*\")"
      ],
      "text/plain": [
       "<IPython.core.display.Javascript object>"
      ]
     },
     "metadata": {},
     "output_type": "display_data"
    },
    {
     "data": {
      "text/markdown": [
       "<span style=\"color:#ccaa33\">Check:</span> When you've updated the starter code, `check()` will tell you whether your code is correct. "
      ],
      "text/plain": [
       "Check: When you've updated the starter code, `check()` will tell you whether your code is correct. "
      ]
     },
     "metadata": {},
     "output_type": "display_data"
    }
   ],
   "source": [
    "def fashionably_late(arrivals, name):\n",
    "    \"\"\"Given an ordered list of arrivals to the party and a name, return whether the guest with that\n",
    "    name was fashionably late.\n",
    "    \"\"\"\n",
    "    pass\n",
    "\n",
    "# Check your answer\n",
    "q5.check()"
   ]
  },
  {
   "cell_type": "code",
   "execution_count": 11,
   "id": "0b5062aa",
   "metadata": {
    "collapsed": true,
    "execution": {
     "iopub.execute_input": "2023-01-12T05:49:53.375416Z",
     "iopub.status.busy": "2023-01-12T05:49:53.375041Z",
     "iopub.status.idle": "2023-01-12T05:49:53.379737Z",
     "shell.execute_reply": "2023-01-12T05:49:53.378531Z"
    },
    "jupyter": {
     "outputs_hidden": true
    },
    "papermill": {
     "duration": 0.015042,
     "end_time": "2023-01-12T05:49:53.382371",
     "exception": false,
     "start_time": "2023-01-12T05:49:53.367329",
     "status": "completed"
    },
    "tags": []
   },
   "outputs": [],
   "source": [
    "#q5.hint()\n",
    "#q5.solution()"
   ]
  },
  {
   "cell_type": "markdown",
   "id": "cc95df8e",
   "metadata": {
    "papermill": {
     "duration": 0.006035,
     "end_time": "2023-01-12T05:49:53.394863",
     "exception": false,
     "start_time": "2023-01-12T05:49:53.388828",
     "status": "completed"
    },
    "tags": []
   },
   "source": [
    "# Keep Going\n",
    "\n",
    "That's it for lists and tuples! Now you have the baseline knowledge to **[learn about loops](https://www.kaggle.com/colinmorris/loops-and-list-comprehensions)**, which is where lists and tuples get really interesting. "
   ]
  },
  {
   "cell_type": "markdown",
   "id": "05cb8930",
   "metadata": {
    "papermill": {
     "duration": 0.005924,
     "end_time": "2023-01-12T05:49:53.407772",
     "exception": false,
     "start_time": "2023-01-12T05:49:53.401848",
     "status": "completed"
    },
    "tags": []
   },
   "source": [
    "---\n",
    "\n",
    "\n",
    "\n",
    "\n",
    "*Have questions or comments? Visit the [course discussion forum](https://www.kaggle.com/learn/python/discussion) to chat with other learners.*"
   ]
  }
 ],
 "metadata": {
  "kernelspec": {
   "display_name": "Python 3",
   "language": "python",
   "name": "python3"
  },
  "language_info": {
   "codemirror_mode": {
    "name": "ipython",
    "version": 3
   },
   "file_extension": ".py",
   "mimetype": "text/x-python",
   "name": "python",
   "nbconvert_exporter": "python",
   "pygments_lexer": "ipython3",
   "version": "3.7.12"
  },
  "papermill": {
   "default_parameters": {},
   "duration": 9.262263,
   "end_time": "2023-01-12T05:49:54.142871",
   "environment_variables": {},
   "exception": null,
   "input_path": "__notebook__.ipynb",
   "output_path": "__notebook__.ipynb",
   "parameters": {},
   "start_time": "2023-01-12T05:49:44.880608",
   "version": "2.3.4"
  }
 },
 "nbformat": 4,
 "nbformat_minor": 5
}
